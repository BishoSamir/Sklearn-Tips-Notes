{
 "cells": [
  {
   "cell_type": "code",
   "execution_count": 1,
   "id": "2852a98a",
   "metadata": {},
   "outputs": [],
   "source": [
    "import pandas as pd \n",
    "import numpy as np \n",
    "import matplotlib.pyplot as plt\n",
    "import seaborn as sns\n",
    "import re  \n",
    "import warnings\n",
    "from pathlib import Path\n",
    "warnings.filterwarnings(\"ignore\")\n",
    "%matplotlib inline\n",
    "plt.rcParams['figure.figsize'] = [8,5]\n",
    "plt.rcParams['font.size'] =14\n",
    "plt.rcParams['font.weight']= 'bold'\n",
    "sns.set()"
   ]
  },
  {
   "cell_type": "code",
   "execution_count": 52,
   "id": "37c06265",
   "metadata": {},
   "outputs": [
    {
     "data": {
      "text/html": [
       "<div>\n",
       "<style scoped>\n",
       "    .dataframe tbody tr th:only-of-type {\n",
       "        vertical-align: middle;\n",
       "    }\n",
       "\n",
       "    .dataframe tbody tr th {\n",
       "        vertical-align: top;\n",
       "    }\n",
       "\n",
       "    .dataframe thead th {\n",
       "        text-align: right;\n",
       "    }\n",
       "</style>\n",
       "<table border=\"1\" class=\"dataframe\">\n",
       "  <thead>\n",
       "    <tr style=\"text-align: right;\">\n",
       "      <th></th>\n",
       "      <th>pclass</th>\n",
       "      <th>survived</th>\n",
       "      <th>name</th>\n",
       "      <th>sex</th>\n",
       "      <th>age</th>\n",
       "      <th>sibsp</th>\n",
       "      <th>parch</th>\n",
       "      <th>ticket</th>\n",
       "      <th>fare</th>\n",
       "      <th>cabin</th>\n",
       "      <th>embarked</th>\n",
       "      <th>boat</th>\n",
       "      <th>body</th>\n",
       "      <th>home.dest</th>\n",
       "    </tr>\n",
       "  </thead>\n",
       "  <tbody>\n",
       "    <tr>\n",
       "      <th>0</th>\n",
       "      <td>1</td>\n",
       "      <td>1</td>\n",
       "      <td>Allen, Miss. Elisabeth Walton</td>\n",
       "      <td>female</td>\n",
       "      <td>29</td>\n",
       "      <td>0</td>\n",
       "      <td>0</td>\n",
       "      <td>24160</td>\n",
       "      <td>211.3375</td>\n",
       "      <td>B5</td>\n",
       "      <td>S</td>\n",
       "      <td>2</td>\n",
       "      <td>?</td>\n",
       "      <td>St Louis, MO</td>\n",
       "    </tr>\n",
       "    <tr>\n",
       "      <th>1</th>\n",
       "      <td>1</td>\n",
       "      <td>1</td>\n",
       "      <td>Allison, Master. Hudson Trevor</td>\n",
       "      <td>male</td>\n",
       "      <td>0.9167</td>\n",
       "      <td>1</td>\n",
       "      <td>2</td>\n",
       "      <td>113781</td>\n",
       "      <td>151.55</td>\n",
       "      <td>C22 C26</td>\n",
       "      <td>S</td>\n",
       "      <td>11</td>\n",
       "      <td>?</td>\n",
       "      <td>Montreal, PQ / Chesterville, ON</td>\n",
       "    </tr>\n",
       "    <tr>\n",
       "      <th>2</th>\n",
       "      <td>1</td>\n",
       "      <td>0</td>\n",
       "      <td>Allison, Miss. Helen Loraine</td>\n",
       "      <td>female</td>\n",
       "      <td>2</td>\n",
       "      <td>1</td>\n",
       "      <td>2</td>\n",
       "      <td>113781</td>\n",
       "      <td>151.55</td>\n",
       "      <td>C22 C26</td>\n",
       "      <td>S</td>\n",
       "      <td>?</td>\n",
       "      <td>?</td>\n",
       "      <td>Montreal, PQ / Chesterville, ON</td>\n",
       "    </tr>\n",
       "    <tr>\n",
       "      <th>3</th>\n",
       "      <td>1</td>\n",
       "      <td>0</td>\n",
       "      <td>Allison, Mr. Hudson Joshua Creighton</td>\n",
       "      <td>male</td>\n",
       "      <td>30</td>\n",
       "      <td>1</td>\n",
       "      <td>2</td>\n",
       "      <td>113781</td>\n",
       "      <td>151.55</td>\n",
       "      <td>C22 C26</td>\n",
       "      <td>S</td>\n",
       "      <td>?</td>\n",
       "      <td>135</td>\n",
       "      <td>Montreal, PQ / Chesterville, ON</td>\n",
       "    </tr>\n",
       "    <tr>\n",
       "      <th>4</th>\n",
       "      <td>1</td>\n",
       "      <td>0</td>\n",
       "      <td>Allison, Mrs. Hudson J C (Bessie Waldo Daniels)</td>\n",
       "      <td>female</td>\n",
       "      <td>25</td>\n",
       "      <td>1</td>\n",
       "      <td>2</td>\n",
       "      <td>113781</td>\n",
       "      <td>151.55</td>\n",
       "      <td>C22 C26</td>\n",
       "      <td>S</td>\n",
       "      <td>?</td>\n",
       "      <td>?</td>\n",
       "      <td>Montreal, PQ / Chesterville, ON</td>\n",
       "    </tr>\n",
       "  </tbody>\n",
       "</table>\n",
       "</div>"
      ],
      "text/plain": [
       "   pclass  survived                                             name     sex  \\\n",
       "0       1         1                    Allen, Miss. Elisabeth Walton  female   \n",
       "1       1         1                   Allison, Master. Hudson Trevor    male   \n",
       "2       1         0                     Allison, Miss. Helen Loraine  female   \n",
       "3       1         0             Allison, Mr. Hudson Joshua Creighton    male   \n",
       "4       1         0  Allison, Mrs. Hudson J C (Bessie Waldo Daniels)  female   \n",
       "\n",
       "      age  sibsp  parch  ticket      fare    cabin embarked boat body  \\\n",
       "0      29      0      0   24160  211.3375       B5        S    2    ?   \n",
       "1  0.9167      1      2  113781    151.55  C22 C26        S   11    ?   \n",
       "2       2      1      2  113781    151.55  C22 C26        S    ?    ?   \n",
       "3      30      1      2  113781    151.55  C22 C26        S    ?  135   \n",
       "4      25      1      2  113781    151.55  C22 C26        S    ?    ?   \n",
       "\n",
       "                         home.dest  \n",
       "0                     St Louis, MO  \n",
       "1  Montreal, PQ / Chesterville, ON  \n",
       "2  Montreal, PQ / Chesterville, ON  \n",
       "3  Montreal, PQ / Chesterville, ON  \n",
       "4  Montreal, PQ / Chesterville, ON  "
      ]
     },
     "execution_count": 52,
     "metadata": {},
     "output_type": "execute_result"
    }
   ],
   "source": [
    "df = pd.read_csv('../data/Collection_of_data/titanic.csv')\n",
    "df.head()"
   ]
  },
  {
   "cell_type": "markdown",
   "id": "581b7c1d",
   "metadata": {},
   "source": [
    "### Tip--1"
   ]
  },
  {
   "cell_type": "markdown",
   "id": "df6cc8f1",
   "metadata": {},
   "source": [
    "**Use Column Transformer to apply different preprocessing on different Columns**\n"
   ]
  },
  {
   "cell_type": "code",
   "execution_count": 53,
   "id": "a1e23544",
   "metadata": {},
   "outputs": [],
   "source": [
    "df = df[['fare','embarked','sex','age']]\n",
    "df.head()\n",
    "df['age'] = df['age'].apply(lambda x : x.replace(\"?\", '0'))"
   ]
  },
  {
   "cell_type": "code",
   "execution_count": 54,
   "id": "7f9a288e",
   "metadata": {},
   "outputs": [
    {
     "data": {
      "text/html": [
       "<div>\n",
       "<style scoped>\n",
       "    .dataframe tbody tr th:only-of-type {\n",
       "        vertical-align: middle;\n",
       "    }\n",
       "\n",
       "    .dataframe tbody tr th {\n",
       "        vertical-align: top;\n",
       "    }\n",
       "\n",
       "    .dataframe thead th {\n",
       "        text-align: right;\n",
       "    }\n",
       "</style>\n",
       "<table border=\"1\" class=\"dataframe\">\n",
       "  <thead>\n",
       "    <tr style=\"text-align: right;\">\n",
       "      <th></th>\n",
       "      <th>fare</th>\n",
       "      <th>embarked</th>\n",
       "      <th>sex</th>\n",
       "      <th>age</th>\n",
       "    </tr>\n",
       "  </thead>\n",
       "  <tbody>\n",
       "    <tr>\n",
       "      <th>0</th>\n",
       "      <td>211.3375</td>\n",
       "      <td>S</td>\n",
       "      <td>female</td>\n",
       "      <td>29</td>\n",
       "    </tr>\n",
       "    <tr>\n",
       "      <th>1</th>\n",
       "      <td>151.55</td>\n",
       "      <td>S</td>\n",
       "      <td>male</td>\n",
       "      <td>0.9167</td>\n",
       "    </tr>\n",
       "    <tr>\n",
       "      <th>2</th>\n",
       "      <td>151.55</td>\n",
       "      <td>S</td>\n",
       "      <td>female</td>\n",
       "      <td>2</td>\n",
       "    </tr>\n",
       "  </tbody>\n",
       "</table>\n",
       "</div>"
      ],
      "text/plain": [
       "       fare embarked     sex     age\n",
       "0  211.3375        S  female      29\n",
       "1    151.55        S    male  0.9167\n",
       "2    151.55        S  female       2"
      ]
     },
     "execution_count": 54,
     "metadata": {},
     "output_type": "execute_result"
    }
   ],
   "source": [
    "df.head(3)"
   ]
  },
  {
   "cell_type": "code",
   "execution_count": 4,
   "id": "c24483a8",
   "metadata": {},
   "outputs": [
    {
     "data": {
      "text/plain": [
       "array([[0.0, 0.0, 0.0, ..., 0.0, 29.0, '211.3375'],\n",
       "       [0.0, 0.0, 0.0, ..., 1.0, 0.9167, '151.55'],\n",
       "       [0.0, 0.0, 0.0, ..., 0.0, 2.0, '151.55'],\n",
       "       ...,\n",
       "       [0.0, 1.0, 0.0, ..., 1.0, 26.5, '7.225'],\n",
       "       [0.0, 1.0, 0.0, ..., 1.0, 27.0, '7.225'],\n",
       "       [0.0, 0.0, 0.0, ..., 1.0, 29.0, '7.875']], dtype=object)"
      ]
     },
     "execution_count": 4,
     "metadata": {},
     "output_type": "execute_result"
    }
   ],
   "source": [
    "#For Example : We want to use OneHotEncoder On (embarked , sex) and fill missing values on (age) With mean value\n",
    "from sklearn.preprocessing import OneHotEncoder\n",
    "from sklearn.impute import SimpleImputer\n",
    "from sklearn.compose import make_column_transformer , make_column_selector\n",
    "one_hot = OneHotEncoder()\n",
    "imputer = SimpleImputer()\n",
    "column_transformer = make_column_transformer(\n",
    "    (one_hot , ['embarked','sex']), # *Line 1*\n",
    "    (imputer , ['age']),\n",
    "    remainder=\"passthrough\" # we can use drop if we want \n",
    "   \n",
    "    #Note : \n",
    "    # we can use make_column_Selector to choose columns According to pattern if we want, for example :\n",
    "    #(one_hot , make_column_selector(pattern = 'E|S'))\n",
    "    #It Will do the same thing as Line 1\n",
    "    \n",
    "    #Another Way to looking for the index\n",
    "    #(one_hot , [1,2])\n",
    "    \n",
    "    #One More :) , We Can take a Slice of Index\n",
    "    #(one_hot , slice(1,3))\n",
    "    \n",
    ")\n",
    "column_transformer.fit_transform(df)"
   ]
  },
  {
   "cell_type": "markdown",
   "id": "34bf045c",
   "metadata": {},
   "source": [
    "### Tip--2\n"
   ]
  },
  {
   "cell_type": "markdown",
   "id": "9992daf0",
   "metadata": {},
   "source": [
    "**What Is The Difference Between Fit and Transform Methods**\n",
    "\n",
    "Fit : the Transformer Learn something about the data <br>\n",
    "transform : it uses what it learned to do the data transformation \n",
    "\n",
    "For Example : <br>\n",
    "`SimpleImputer` : <br>\n",
    "    fit : learns the value to impute <br>\n",
    "    transform : transform fills in missing entries the imputition value \n"
   ]
  },
  {
   "cell_type": "markdown",
   "id": "64d3382f",
   "metadata": {},
   "source": [
    "### Tip--3"
   ]
  },
  {
   "cell_type": "markdown",
   "id": "092a918c",
   "metadata": {},
   "source": [
    "**Use `Fit_Transform` On Training Data , But `Transform` Only on Testing/New Data**"
   ]
  },
  {
   "cell_type": "raw",
   "id": "cb31ad01",
   "metadata": {},
   "source": [
    "This is a Crucial Problem but why ? simply , because if u using fit_transform also on testing or new data , that's will lead to a problem Which is :\n",
    "1 - it will be kind of retrain again on testing data and that is very bad , because we want to simulate reality , like our model now on production and we need to classify new samples we don't know something about it \n",
    "2 - When Preprocessing data , say we have a training data and we have a column with 3 labels(a, b ,c ) if we used one hot encoding we will got 3 columns ,but if we using fit transform again on testing data and maybe the data will have just(a,b) ,it will break the model because it will make just 2 columns "
   ]
  },
  {
   "cell_type": "markdown",
   "id": "4e0bd8e8",
   "metadata": {},
   "source": [
    "### Tip--4"
   ]
  },
  {
   "cell_type": "markdown",
   "id": "6e3bf3bd",
   "metadata": {},
   "source": [
    "**Use Sklearn Not Pandas for ML Preprocessing**"
   ]
  },
  {
   "cell_type": "raw",
   "id": "005ec4f9",
   "metadata": {},
   "source": [
    "one of many reason to use it:\n",
    "You can evaluate the model with cross_validation Withoud Data Leakge (Run on The Whole Workflow) ,in contrast pandas separete the whole procedure \n",
    "(هفهمك الموضوع ده في مقالة قريبة انا عارف ان الموضوع ممكن يبقي غريب عليك هنا )"
   ]
  },
  {
   "cell_type": "markdown",
   "id": "2dcd2603",
   "metadata": {},
   "source": [
    "### Tip--5"
   ]
  },
  {
   "cell_type": "markdown",
   "id": "1ebe09c1",
   "metadata": {},
   "source": [
    "**Two Common Ways To Encode Categorical Features** <br>\n",
    "1 - `OneHotEncoder` For Nominal Data (unordered)<br>\n",
    "2 - `OrdinalEncoder`for ordered data"
   ]
  },
  {
   "cell_type": "code",
   "execution_count": 5,
   "id": "038d5624",
   "metadata": {},
   "outputs": [
    {
     "data": {
      "text/html": [
       "<div>\n",
       "<style scoped>\n",
       "    .dataframe tbody tr th:only-of-type {\n",
       "        vertical-align: middle;\n",
       "    }\n",
       "\n",
       "    .dataframe tbody tr th {\n",
       "        vertical-align: top;\n",
       "    }\n",
       "\n",
       "    .dataframe thead th {\n",
       "        text-align: right;\n",
       "    }\n",
       "</style>\n",
       "<table border=\"1\" class=\"dataframe\">\n",
       "  <thead>\n",
       "    <tr style=\"text-align: right;\">\n",
       "      <th></th>\n",
       "      <th>animals</th>\n",
       "      <th>ay_klam</th>\n",
       "      <th>ay_klam_bardo</th>\n",
       "    </tr>\n",
       "  </thead>\n",
       "  <tbody>\n",
       "    <tr>\n",
       "      <th>0</th>\n",
       "      <td>cat</td>\n",
       "      <td>car</td>\n",
       "      <td>first</td>\n",
       "    </tr>\n",
       "    <tr>\n",
       "      <th>1</th>\n",
       "      <td>dog</td>\n",
       "      <td>ship</td>\n",
       "      <td>second</td>\n",
       "    </tr>\n",
       "    <tr>\n",
       "      <th>2</th>\n",
       "      <td>monkey</td>\n",
       "      <td>house</td>\n",
       "      <td>third</td>\n",
       "    </tr>\n",
       "  </tbody>\n",
       "</table>\n",
       "</div>"
      ],
      "text/plain": [
       "  animals ay_klam ay_klam_bardo\n",
       "0     cat     car         first\n",
       "1     dog    ship        second\n",
       "2  monkey   house         third"
      ]
     },
     "execution_count": 5,
     "metadata": {},
     "output_type": "execute_result"
    }
   ],
   "source": [
    "from sklearn.preprocessing import OneHotEncoder , OrdinalEncoder\n",
    "df = pd.DataFrame(np.array([['cat','dog','monkey'],['car','ship','house'],['first','second' , 'third']]).T,columns=['animals','ay_klam','ay_klam_bardo'])\n",
    "df"
   ]
  },
  {
   "cell_type": "code",
   "execution_count": 6,
   "id": "435bb04b",
   "metadata": {},
   "outputs": [
    {
     "data": {
      "text/plain": [
       "array([[1., 0., 0.],\n",
       "       [0., 1., 0.],\n",
       "       [0., 0., 1.]])"
      ]
     },
     "execution_count": 6,
     "metadata": {},
     "output_type": "execute_result"
    }
   ],
   "source": [
    "# we used here one hot encoder because the data has no meaning with order\n",
    "# use handel_unknow = ignore to set all values = 0 if we got any categorical value we had not seen in training data\n",
    "one_hot = OneHotEncoder(sparse = False , handle_unknown= 'ignore')\n",
    "one_hot.fit_transform(df[['animals']])"
   ]
  },
  {
   "cell_type": "code",
   "execution_count": 7,
   "id": "de40b573",
   "metadata": {},
   "outputs": [
    {
     "data": {
      "text/plain": [
       "array([[0.],\n",
       "       [1.],\n",
       "       [2.]])"
      ]
     },
     "execution_count": 7,
     "metadata": {},
     "output_type": "execute_result"
    }
   ],
   "source": [
    "# but according to third column there is meaning with order for example : \n",
    "# if we need te predict the price of tickets on any festival , we know that there is a relation between the class\n",
    "# and the predicted price of the ticket , because the first calss for sure has a price more than the third one \n",
    "# if we used one hot encoder we are loosing the meaning of realation , but it will still can catch the relation accroding to\n",
    "# is it first class or not ? is it second class or not ? and so on\n",
    "ord_enc = OrdinalEncoder(categories=[['first','second','third']])\n",
    "ord_enc.fit_transform(df[['ay_klam_bardo']])"
   ]
  },
  {
   "cell_type": "markdown",
   "id": "9efd71bb",
   "metadata": {},
   "source": [
    "### Tip--6"
   ]
  },
  {
   "cell_type": "markdown",
   "id": "19ce7c2b",
   "metadata": {},
   "source": [
    "**Use Pipeline, But What it is ?**<br>\n",
    "`Ans:` Chain Together Multible steps : output of each step is used as input to the next step <br>\n",
    "`Benefits:`<pre>\n",
    " 1 - Better Performance <br>\n",
    " 2 - easy to implement <br>\n",
    " 3 - prevent data leakage "
   ]
  },
  {
   "cell_type": "code",
   "execution_count": 8,
   "id": "4be908dd",
   "metadata": {},
   "outputs": [],
   "source": [
    "from sklearn.impute import SimpleImputer\n",
    "from sklearn.linear_model import LogisticRegression\n",
    "from sklearn.pipeline import make_pipeline\n",
    "imputer = SimpleImputer()\n",
    "clf = LogisticRegression()\n",
    "pipe = make_pipeline(imputer , clf)"
   ]
  },
  {
   "cell_type": "code",
   "execution_count": 9,
   "id": "9e8a96aa",
   "metadata": {},
   "outputs": [
    {
     "data": {
      "text/html": [
       "<div>\n",
       "<style scoped>\n",
       "    .dataframe tbody tr th:only-of-type {\n",
       "        vertical-align: middle;\n",
       "    }\n",
       "\n",
       "    .dataframe tbody tr th {\n",
       "        vertical-align: top;\n",
       "    }\n",
       "\n",
       "    .dataframe thead th {\n",
       "        text-align: right;\n",
       "    }\n",
       "</style>\n",
       "<table border=\"1\" class=\"dataframe\">\n",
       "  <thead>\n",
       "    <tr style=\"text-align: right;\">\n",
       "      <th></th>\n",
       "      <th>feature</th>\n",
       "      <th>label</th>\n",
       "    </tr>\n",
       "  </thead>\n",
       "  <tbody>\n",
       "    <tr>\n",
       "      <th>0</th>\n",
       "      <td>15.5</td>\n",
       "      <td>1.0</td>\n",
       "    </tr>\n",
       "    <tr>\n",
       "      <th>1</th>\n",
       "      <td>20.0</td>\n",
       "      <td>0.0</td>\n",
       "    </tr>\n",
       "    <tr>\n",
       "      <th>2</th>\n",
       "      <td>40.0</td>\n",
       "      <td>0.0</td>\n",
       "    </tr>\n",
       "    <tr>\n",
       "      <th>3</th>\n",
       "      <td>NaN</td>\n",
       "      <td>1.0</td>\n",
       "    </tr>\n",
       "  </tbody>\n",
       "</table>\n",
       "</div>"
      ],
      "text/plain": [
       "   feature  label\n",
       "0     15.5    1.0\n",
       "1     20.0    0.0\n",
       "2     40.0    0.0\n",
       "3      NaN    1.0"
      ]
     },
     "execution_count": 9,
     "metadata": {},
     "output_type": "execute_result"
    }
   ],
   "source": [
    "# Dump data\n",
    "df = pd.DataFrame(np.array([[15.5,20,40,np.nan],[1,0,0,1]]).T , columns=['feature','label'])\n",
    "df"
   ]
  },
  {
   "cell_type": "code",
   "execution_count": 10,
   "id": "b18a4a13",
   "metadata": {},
   "outputs": [
    {
     "data": {
      "text/plain": [
       "Pipeline(steps=[('simpleimputer', SimpleImputer()),\n",
       "                ('logisticregression', LogisticRegression())])"
      ]
     },
     "execution_count": 10,
     "metadata": {},
     "output_type": "execute_result"
    }
   ],
   "source": [
    "X ,y = df[['feature']] , df['label']\n",
    "pipe.fit(X,y)"
   ]
  },
  {
   "cell_type": "code",
   "execution_count": 11,
   "id": "8973091b",
   "metadata": {},
   "outputs": [
    {
     "data": {
      "text/plain": [
       "array([1., 1., 1., 0.])"
      ]
     },
     "execution_count": 11,
     "metadata": {},
     "output_type": "execute_result"
    }
   ],
   "source": [
    "# make dump test data to check the results\n",
    "X_new = pd.DataFrame(np.array([15,13,14,np.nan]).T , columns=['Ft1'])\n",
    "X_new = X_new[['Ft1']]\n",
    "# to predict Test/New Data use pipe.predict it will using the same procedure -- impute first then make a preciction\n",
    "pipe.predict(X_new)"
   ]
  },
  {
   "cell_type": "markdown",
   "id": "3242f733",
   "metadata": {},
   "source": [
    "### Tip--7"
   ]
  },
  {
   "cell_type": "raw",
   "id": "f6ba67a6",
   "metadata": {},
   "source": [
    "When imputing missing values , u can preserve info about which values where missing and use that as a feature \n",
    "but Why ? \n",
    "sometimes there is a relation between `missingness` and the target label we need to predict "
   ]
  },
  {
   "cell_type": "code",
   "execution_count": 12,
   "id": "00545b5e",
   "metadata": {},
   "outputs": [
    {
     "data": {
      "text/html": [
       "<div>\n",
       "<style scoped>\n",
       "    .dataframe tbody tr th:only-of-type {\n",
       "        vertical-align: middle;\n",
       "    }\n",
       "\n",
       "    .dataframe tbody tr th {\n",
       "        vertical-align: top;\n",
       "    }\n",
       "\n",
       "    .dataframe thead th {\n",
       "        text-align: right;\n",
       "    }\n",
       "</style>\n",
       "<table border=\"1\" class=\"dataframe\">\n",
       "  <thead>\n",
       "    <tr style=\"text-align: right;\">\n",
       "      <th></th>\n",
       "      <th>age</th>\n",
       "    </tr>\n",
       "  </thead>\n",
       "  <tbody>\n",
       "    <tr>\n",
       "      <th>0</th>\n",
       "      <td>1.0</td>\n",
       "    </tr>\n",
       "    <tr>\n",
       "      <th>1</th>\n",
       "      <td>2.0</td>\n",
       "    </tr>\n",
       "    <tr>\n",
       "      <th>2</th>\n",
       "      <td>3.0</td>\n",
       "    </tr>\n",
       "    <tr>\n",
       "      <th>3</th>\n",
       "      <td>NaN</td>\n",
       "    </tr>\n",
       "    <tr>\n",
       "      <th>4</th>\n",
       "      <td>15.0</td>\n",
       "    </tr>\n",
       "  </tbody>\n",
       "</table>\n",
       "</div>"
      ],
      "text/plain": [
       "    age\n",
       "0   1.0\n",
       "1   2.0\n",
       "2   3.0\n",
       "3   NaN\n",
       "4  15.0"
      ]
     },
     "execution_count": 12,
     "metadata": {},
     "output_type": "execute_result"
    }
   ],
   "source": [
    "x = pd.DataFrame(np.array([1,2,3,np.nan,15]).T , columns=['age'])\n",
    "x"
   ]
  },
  {
   "cell_type": "code",
   "execution_count": 13,
   "id": "3ea9796d",
   "metadata": {},
   "outputs": [
    {
     "data": {
      "text/plain": [
       "array([[ 1.  ,  0.  ],\n",
       "       [ 2.  ,  0.  ],\n",
       "       [ 3.  ,  0.  ],\n",
       "       [ 5.25,  1.  ],\n",
       "       [15.  ,  0.  ]])"
      ]
     },
     "execution_count": 13,
     "metadata": {},
     "output_type": "execute_result"
    }
   ],
   "source": [
    "from sklearn.impute import SimpleImputer\n",
    "imputer = SimpleImputer(add_indicator=True)\n",
    "imputer.fit_transform(x)\n",
    "# As u can see , it add more info about the missing values "
   ]
  },
  {
   "cell_type": "markdown",
   "id": "10a6395f",
   "metadata": {},
   "source": [
    "### Tip--8"
   ]
  },
  {
   "cell_type": "markdown",
   "id": "58429695",
   "metadata": {},
   "source": [
    "**Impute Missing Values Using KNNImputer Or IterativeImputer, but what is the difference ?**"
   ]
  },
  {
   "cell_type": "code",
   "execution_count": 14,
   "id": "70638f51",
   "metadata": {},
   "outputs": [
    {
     "data": {
      "text/html": [
       "<div>\n",
       "<style scoped>\n",
       "    .dataframe tbody tr th:only-of-type {\n",
       "        vertical-align: middle;\n",
       "    }\n",
       "\n",
       "    .dataframe tbody tr th {\n",
       "        vertical-align: top;\n",
       "    }\n",
       "\n",
       "    .dataframe thead th {\n",
       "        text-align: right;\n",
       "    }\n",
       "</style>\n",
       "<table border=\"1\" class=\"dataframe\">\n",
       "  <thead>\n",
       "    <tr style=\"text-align: right;\">\n",
       "      <th></th>\n",
       "      <th>SibSp</th>\n",
       "      <th>Fare</th>\n",
       "      <th>Age</th>\n",
       "    </tr>\n",
       "  </thead>\n",
       "  <tbody>\n",
       "    <tr>\n",
       "      <th>0</th>\n",
       "      <td>1.0</td>\n",
       "      <td>71.0</td>\n",
       "      <td>22.0</td>\n",
       "    </tr>\n",
       "    <tr>\n",
       "      <th>1</th>\n",
       "      <td>1.0</td>\n",
       "      <td>98.3</td>\n",
       "      <td>17.0</td>\n",
       "    </tr>\n",
       "    <tr>\n",
       "      <th>2</th>\n",
       "      <td>0.0</td>\n",
       "      <td>22.0</td>\n",
       "      <td>18.0</td>\n",
       "    </tr>\n",
       "    <tr>\n",
       "      <th>3</th>\n",
       "      <td>1.0</td>\n",
       "      <td>56.0</td>\n",
       "      <td>NaN</td>\n",
       "    </tr>\n",
       "    <tr>\n",
       "      <th>4</th>\n",
       "      <td>0.0</td>\n",
       "      <td>156.0</td>\n",
       "      <td>52.0</td>\n",
       "    </tr>\n",
       "  </tbody>\n",
       "</table>\n",
       "</div>"
      ],
      "text/plain": [
       "   SibSp   Fare   Age\n",
       "0    1.0   71.0  22.0\n",
       "1    1.0   98.3  17.0\n",
       "2    0.0   22.0  18.0\n",
       "3    1.0   56.0   NaN\n",
       "4    0.0  156.0  52.0"
      ]
     },
     "execution_count": 14,
     "metadata": {},
     "output_type": "execute_result"
    }
   ],
   "source": [
    "# Let's say we have these dump data\n",
    "from sklearn.experimental import enable_iterative_imputer\n",
    "from sklearn.impute import KNNImputer , IterativeImputer\n",
    "df = pd.DataFrame(np.array([[1,1,0,1,0],[71,98.3,22,56,156],[22,17 ,18 , np.nan ,52]]).T,columns=['SibSp','Fare','Age'])\n",
    "df\n"
   ]
  },
  {
   "cell_type": "code",
   "execution_count": 15,
   "id": "be09ca2f",
   "metadata": {},
   "outputs": [
    {
     "data": {
      "text/plain": [
       "array([[  1.        ,  71.        ,  22.        ],\n",
       "       [  1.        ,  98.3       ,  17.        ],\n",
       "       [  0.        ,  22.        ,  18.        ],\n",
       "       [  1.        ,  56.        ,  21.00337838],\n",
       "       [  0.        , 156.        ,  52.        ]])"
      ]
     },
     "execution_count": 15,
     "metadata": {},
     "output_type": "execute_result"
    }
   ],
   "source": [
    "#The Iterative Imputer method Works in the way that it's search for the whole rows that does not have missing value \n",
    "#and tries to make a regression model to predict the missing values (Assuming that there are correlation between features)\n",
    "\n",
    "it_imputer = IterativeImputer()# u can specify the model u want to use \n",
    "it_imputer.fit_transform(df)"
   ]
  },
  {
   "cell_type": "code",
   "execution_count": 16,
   "id": "d08d7532",
   "metadata": {},
   "outputs": [
    {
     "data": {
      "text/plain": [
       "array([[  1. ,  71. ,  22. ],\n",
       "       [  1. ,  98.3,  17. ],\n",
       "       [  0. ,  22. ,  18. ],\n",
       "       [  1. ,  56. ,  20. ],\n",
       "       [  0. , 156. ,  52. ]])"
      ]
     },
     "execution_count": 16,
     "metadata": {},
     "output_type": "execute_result"
    }
   ],
   "source": [
    "# KnnImputer works in a simialr way ,but in contrast instead of making regression model to predict missing values\n",
    "# it looks for the distances between the instaces(Rows) Assuming that similar rows have similar behaviour\n",
    "# say we looking for the most 2 closest rows to find the null value in Fourth row , it will calculate the distance \n",
    "# Between Row 4 and the whole data and estimate the missing values by the most 2 closest values\n",
    "knn_imputer = KNNImputer(n_neighbors=2)\n",
    "knn_imputer.fit_transform(df)"
   ]
  },
  {
   "cell_type": "markdown",
   "id": "8f8d949f",
   "metadata": {},
   "source": [
    "### Tip--9"
   ]
  },
  {
   "cell_type": "markdown",
   "id": "9f808623",
   "metadata": {},
   "source": [
    "**How do u examine intermediate Steps in a Pipeline?**<br>\n",
    "`Ans :`<br>\n",
    " By Usine Step_named_attribute"
   ]
  },
  {
   "cell_type": "code",
   "execution_count": 17,
   "id": "ab709422",
   "metadata": {},
   "outputs": [],
   "source": [
    "from sklearn.impute import SimpleImputer\n",
    "from sklearn.linear_model import LogisticRegression\n",
    "from sklearn.pipeline import make_pipeline\n",
    "imputer = SimpleImputer()\n",
    "clf = LogisticRegression()\n",
    "pipe = make_pipeline(imputer , clf)"
   ]
  },
  {
   "cell_type": "code",
   "execution_count": 18,
   "id": "85c3ae82",
   "metadata": {},
   "outputs": [
    {
     "data": {
      "text/html": [
       "<div>\n",
       "<style scoped>\n",
       "    .dataframe tbody tr th:only-of-type {\n",
       "        vertical-align: middle;\n",
       "    }\n",
       "\n",
       "    .dataframe tbody tr th {\n",
       "        vertical-align: top;\n",
       "    }\n",
       "\n",
       "    .dataframe thead th {\n",
       "        text-align: right;\n",
       "    }\n",
       "</style>\n",
       "<table border=\"1\" class=\"dataframe\">\n",
       "  <thead>\n",
       "    <tr style=\"text-align: right;\">\n",
       "      <th></th>\n",
       "      <th>feature</th>\n",
       "      <th>label</th>\n",
       "    </tr>\n",
       "  </thead>\n",
       "  <tbody>\n",
       "    <tr>\n",
       "      <th>0</th>\n",
       "      <td>15.5</td>\n",
       "      <td>1.0</td>\n",
       "    </tr>\n",
       "    <tr>\n",
       "      <th>1</th>\n",
       "      <td>20.0</td>\n",
       "      <td>0.0</td>\n",
       "    </tr>\n",
       "    <tr>\n",
       "      <th>2</th>\n",
       "      <td>40.0</td>\n",
       "      <td>0.0</td>\n",
       "    </tr>\n",
       "    <tr>\n",
       "      <th>3</th>\n",
       "      <td>NaN</td>\n",
       "      <td>1.0</td>\n",
       "    </tr>\n",
       "  </tbody>\n",
       "</table>\n",
       "</div>"
      ],
      "text/plain": [
       "   feature  label\n",
       "0     15.5    1.0\n",
       "1     20.0    0.0\n",
       "2     40.0    0.0\n",
       "3      NaN    1.0"
      ]
     },
     "execution_count": 18,
     "metadata": {},
     "output_type": "execute_result"
    }
   ],
   "source": [
    "# Dump data\n",
    "df = pd.DataFrame(np.array([[15.5,20,40,np.nan],[1,0,0,1]]).T , columns=['feature','label'])\n",
    "df"
   ]
  },
  {
   "cell_type": "code",
   "execution_count": 19,
   "id": "3e5a0e68",
   "metadata": {},
   "outputs": [],
   "source": [
    "# Use (;) to disable showing the output\n",
    "X ,y = df[['feature']] , df['label']\n",
    "pipe.fit(X,y);"
   ]
  },
  {
   "cell_type": "code",
   "execution_count": 20,
   "id": "fb4923ed",
   "metadata": {},
   "outputs": [
    {
     "data": {
      "text/plain": [
       "(array([25.16666667]), array([[-0.14422112]]))"
      ]
     },
     "execution_count": 20,
     "metadata": {},
     "output_type": "execute_result"
    }
   ],
   "source": [
    "# Check the mean and Coef of the model\n",
    "pipe.named_steps.simpleimputer.statistics_ , pipe.named_steps.logisticregression.coef_"
   ]
  },
  {
   "cell_type": "markdown",
   "id": "ec45c63d",
   "metadata": {},
   "source": [
    "### Tip--10"
   ]
  },
  {
   "cell_type": "markdown",
   "id": "57267fc3",
   "metadata": {},
   "source": [
    "**Compare Multiple ROC Curves in a Single Plot**"
   ]
  },
  {
   "cell_type": "code",
   "execution_count": 21,
   "id": "b4d8d775",
   "metadata": {},
   "outputs": [],
   "source": [
    "from sklearn.model_selection import train_test_split\n",
    "from sklearn.linear_model import LogisticRegression\n",
    "from sklearn.tree import DecisionTreeClassifier\n",
    "from sklearn.ensemble import RandomForestClassifier\n",
    "from sklearn.metrics import plot_roc_curve"
   ]
  },
  {
   "cell_type": "code",
   "execution_count": 22,
   "id": "690fdfd1",
   "metadata": {},
   "outputs": [
    {
     "data": {
      "text/html": [
       "<div>\n",
       "<style scoped>\n",
       "    .dataframe tbody tr th:only-of-type {\n",
       "        vertical-align: middle;\n",
       "    }\n",
       "\n",
       "    .dataframe tbody tr th {\n",
       "        vertical-align: top;\n",
       "    }\n",
       "\n",
       "    .dataframe thead th {\n",
       "        text-align: right;\n",
       "    }\n",
       "</style>\n",
       "<table border=\"1\" class=\"dataframe\">\n",
       "  <thead>\n",
       "    <tr style=\"text-align: right;\">\n",
       "      <th></th>\n",
       "      <th>Pregnancies</th>\n",
       "      <th>Glucose</th>\n",
       "      <th>BloodPressure</th>\n",
       "      <th>SkinThickness</th>\n",
       "      <th>Insulin</th>\n",
       "      <th>BMI</th>\n",
       "      <th>DiabetesPedigreeFunction</th>\n",
       "      <th>Age</th>\n",
       "      <th>Outcome</th>\n",
       "    </tr>\n",
       "  </thead>\n",
       "  <tbody>\n",
       "    <tr>\n",
       "      <th>0</th>\n",
       "      <td>6</td>\n",
       "      <td>148</td>\n",
       "      <td>72</td>\n",
       "      <td>35</td>\n",
       "      <td>0</td>\n",
       "      <td>33.6</td>\n",
       "      <td>0.627</td>\n",
       "      <td>50</td>\n",
       "      <td>1</td>\n",
       "    </tr>\n",
       "    <tr>\n",
       "      <th>1</th>\n",
       "      <td>1</td>\n",
       "      <td>85</td>\n",
       "      <td>66</td>\n",
       "      <td>29</td>\n",
       "      <td>0</td>\n",
       "      <td>26.6</td>\n",
       "      <td>0.351</td>\n",
       "      <td>31</td>\n",
       "      <td>0</td>\n",
       "    </tr>\n",
       "    <tr>\n",
       "      <th>2</th>\n",
       "      <td>8</td>\n",
       "      <td>183</td>\n",
       "      <td>64</td>\n",
       "      <td>0</td>\n",
       "      <td>0</td>\n",
       "      <td>23.3</td>\n",
       "      <td>0.672</td>\n",
       "      <td>32</td>\n",
       "      <td>1</td>\n",
       "    </tr>\n",
       "  </tbody>\n",
       "</table>\n",
       "</div>"
      ],
      "text/plain": [
       "   Pregnancies  Glucose  BloodPressure  SkinThickness  Insulin   BMI  \\\n",
       "0            6      148             72             35        0  33.6   \n",
       "1            1       85             66             29        0  26.6   \n",
       "2            8      183             64              0        0  23.3   \n",
       "\n",
       "   DiabetesPedigreeFunction  Age  Outcome  \n",
       "0                     0.627   50        1  \n",
       "1                     0.351   31        0  \n",
       "2                     0.672   32        1  "
      ]
     },
     "execution_count": 22,
     "metadata": {},
     "output_type": "execute_result"
    }
   ],
   "source": [
    "df = pd.read_csv('../diabetes.csv')\n",
    "df.head(3)"
   ]
  },
  {
   "cell_type": "code",
   "execution_count": 23,
   "id": "aafbb15d",
   "metadata": {},
   "outputs": [],
   "source": [
    "X = df.drop(columns= 'Outcome').values\n",
    "y = df['Outcome'].values\n",
    "X_train , X_test , y_train , y_test = train_test_split(X ,y , random_state= 33)\n",
    "lr , dt , rf = LogisticRegression() , DecisionTreeClassifier() , RandomForestClassifier()\n",
    "lr.fit(X_train , y_train)\n",
    "dt.fit(X_train , y_train)\n",
    "rf.fit(X_train , y_train);"
   ]
  },
  {
   "cell_type": "code",
   "execution_count": 24,
   "id": "dfc89300",
   "metadata": {},
   "outputs": [
    {
     "data": {
      "text/plain": [
       "<sklearn.metrics._plot.roc_curve.RocCurveDisplay at 0x23a8aca9408>"
      ]
     },
     "execution_count": 24,
     "metadata": {},
     "output_type": "execute_result"
    },
    {
     "data": {
      "image/png": "[encoded data removed]",
      "text/plain": [
       "<Figure size 576x360 with 1 Axes>"
      ]
     },
     "metadata": {},
     "output_type": "display_data"
    }
   ],
   "source": [
    "disp = plot_roc_curve(lr,X_test , y_test)\n",
    "plot_roc_curve(dt , X_test , y_test , ax = disp.ax_)\n",
    "plot_roc_curve(rf , X_test , y_test , ax = disp.ax_)"
   ]
  },
  {
   "cell_type": "markdown",
   "id": "76aa34b8",
   "metadata": {},
   "source": [
    "### Tip--11"
   ]
  },
  {
   "cell_type": "markdown",
   "id": "f7fe0dee",
   "metadata": {},
   "source": [
    "**Use Cross-Validate and GridSeach With Pipeline, But Why?**"
   ]
  },
  {
   "cell_type": "markdown",
   "id": "3b8de810",
   "metadata": {},
   "source": [
    "Simply , Preprocessing Will Automatically Occur After Each Cross-Validate split To Prevent Data Leakage,\n",
    "To Get Meaningful Scores"
   ]
  },
  {
   "cell_type": "code",
   "execution_count": 25,
   "id": "d70756db",
   "metadata": {},
   "outputs": [],
   "source": [
    "from sklearn.impute import SimpleImputer\n",
    "from sklearn.compose import make_column_transformer\n",
    "from sklearn.pipeline import make_pipeline\n",
    "from sklearn.linear_model import LogisticRegression\n",
    "imputer = SimpleImputer()\n",
    "lr = LogisticRegression()"
   ]
  },
  {
   "cell_type": "code",
   "execution_count": 26,
   "id": "c204cbe7",
   "metadata": {},
   "outputs": [
    {
     "data": {
      "text/html": [
       "<div>\n",
       "<style scoped>\n",
       "    .dataframe tbody tr th:only-of-type {\n",
       "        vertical-align: middle;\n",
       "    }\n",
       "\n",
       "    .dataframe tbody tr th {\n",
       "        vertical-align: top;\n",
       "    }\n",
       "\n",
       "    .dataframe thead th {\n",
       "        text-align: right;\n",
       "    }\n",
       "</style>\n",
       "<table border=\"1\" class=\"dataframe\">\n",
       "  <thead>\n",
       "    <tr style=\"text-align: right;\">\n",
       "      <th></th>\n",
       "      <th>age</th>\n",
       "      <th>sex</th>\n",
       "      <th>chol</th>\n",
       "      <th>target</th>\n",
       "    </tr>\n",
       "  </thead>\n",
       "  <tbody>\n",
       "    <tr>\n",
       "      <th>0</th>\n",
       "      <td>63</td>\n",
       "      <td>1</td>\n",
       "      <td>233</td>\n",
       "      <td>1</td>\n",
       "    </tr>\n",
       "    <tr>\n",
       "      <th>1</th>\n",
       "      <td>37</td>\n",
       "      <td>1</td>\n",
       "      <td>250</td>\n",
       "      <td>1</td>\n",
       "    </tr>\n",
       "    <tr>\n",
       "      <th>2</th>\n",
       "      <td>41</td>\n",
       "      <td>0</td>\n",
       "      <td>204</td>\n",
       "      <td>1</td>\n",
       "    </tr>\n",
       "  </tbody>\n",
       "</table>\n",
       "</div>"
      ],
      "text/plain": [
       "   age  sex  chol  target\n",
       "0   63    1   233       1\n",
       "1   37    1   250       1\n",
       "2   41    0   204       1"
      ]
     },
     "execution_count": 26,
     "metadata": {},
     "output_type": "execute_result"
    }
   ],
   "source": [
    "df = pd.read_csv('../data/Collection_of_data/heart-disease.csv')\n",
    "df = df[['age','sex','chol','target']]\n",
    "df.head(3)"
   ]
  },
  {
   "cell_type": "code",
   "execution_count": 27,
   "id": "8d4ea6f6",
   "metadata": {},
   "outputs": [
    {
     "data": {
      "text/plain": [
       "Pipeline(steps=[('columntransformer',\n",
       "                 ColumnTransformer(transformers=[('simpleimputer',\n",
       "                                                  SimpleImputer(), ['age'])])),\n",
       "                ('logisticregression', LogisticRegression())])"
      ]
     },
     "execution_count": 27,
     "metadata": {},
     "output_type": "execute_result"
    }
   ],
   "source": [
    "X = df.drop(columns='target')\n",
    "y = df.target\n",
    "X_train , X_test , y_train , y_test = train_test_split(X ,y , random_state= 33)\n",
    "lr = LogisticRegression()\n",
    "#Imagine there is more than 1 transformer like OneHotEncoder\n",
    "ct = make_column_transformer((imputer,['age']))\n",
    "pipe = make_pipeline(ct , clf)\n",
    "pipe.fit(X_train , y_train)"
   ]
  },
  {
   "cell_type": "code",
   "execution_count": 28,
   "id": "30664cb9",
   "metadata": {},
   "outputs": [
    {
     "data": {
      "text/plain": [
       "0.6234426229508196"
      ]
     },
     "execution_count": 28,
     "metadata": {},
     "output_type": "execute_result"
    }
   ],
   "source": [
    "from sklearn.model_selection import cross_val_score , GridSearchCV\n",
    "cross_val_score(pipe , X , y , cv = 5 ).mean()"
   ]
  },
  {
   "cell_type": "code",
   "execution_count": 29,
   "id": "15ee7f2c",
   "metadata": {},
   "outputs": [],
   "source": [
    "params = {}\n",
    "params['logisticregression__C'] = [1,2,5]\n",
    "params['columntransformer__simpleimputer__strategy'] = ['mean','median']\n",
    "params['logisticregression__penalty'] = ['l1','l2']\n",
    "grid = GridSearchCV(pipe , params , cv = 5 , scoring='accuracy')"
   ]
  },
  {
   "cell_type": "code",
   "execution_count": 30,
   "id": "de8d1e31",
   "metadata": {},
   "outputs": [
    {
     "data": {
      "text/plain": [
       "0.6234426229508196"
      ]
     },
     "execution_count": 30,
     "metadata": {},
     "output_type": "execute_result"
    }
   ],
   "source": [
    "grid.fit(X,y)\n",
    "grid.best_score_"
   ]
  },
  {
   "cell_type": "code",
   "execution_count": 31,
   "id": "2e71db4f",
   "metadata": {},
   "outputs": [
    {
     "data": {
      "text/plain": [
       "{'columntransformer__simpleimputer__strategy': 'mean',\n",
       " 'logisticregression__C': 1,\n",
       " 'logisticregression__penalty': 'l2'}"
      ]
     },
     "execution_count": 31,
     "metadata": {},
     "output_type": "execute_result"
    }
   ],
   "source": [
    "grid.best_params_"
   ]
  },
  {
   "cell_type": "markdown",
   "id": "fbc87e48",
   "metadata": {},
   "source": [
    "### Tip--12"
   ]
  },
  {
   "cell_type": "markdown",
   "id": "85ac4fd0",
   "metadata": {},
   "source": [
    "**Use The Correct Method with pipeline**<br>\n",
    "Yeah,There is more than one :<pre>\n",
    "1-pipeline ends with a classifier(Regression,Classification) Use :<br>\n",
    "pipe.fit(), it will run the whole transformation first and ends with fit the model ,(Note) pipe.predict() for (New/test) data\n",
    "________________________________________\n",
    "2- pipeline ends with just a transformer , Use pipe.fit_transform() to train data And pipe transform with New/Test data"
   ]
  },
  {
   "cell_type": "markdown",
   "id": "3e5d5258",
   "metadata": {},
   "source": [
    "### Tip--13"
   ]
  },
  {
   "cell_type": "markdown",
   "id": "46c60281",
   "metadata": {},
   "source": [
    "**Use Stratified Method with train/test split with an imbalance data**"
   ]
  },
  {
   "cell_type": "code",
   "execution_count": 32,
   "id": "7be1fdfe",
   "metadata": {},
   "outputs": [
    {
     "data": {
      "text/plain": [
       "1    165\n",
       "0    138\n",
       "Name: target, dtype: int64"
      ]
     },
     "execution_count": 32,
     "metadata": {},
     "output_type": "execute_result"
    }
   ],
   "source": [
    "df = pd.read_csv('../data/Collection_of_data/heart-disease.csv')\n",
    "df = df[['age','sex','chol','target']]\n",
    "df['target'].value_counts()"
   ]
  },
  {
   "cell_type": "code",
   "execution_count": 33,
   "id": "7ed020b9",
   "metadata": {},
   "outputs": [],
   "source": [
    "# Say we have the count of 1 = 30 and the count of 0 = 200 ,So it obvious we need to use a method to split the data ,\n",
    "# but there is a proplem!, what if when we splits the data, the Whole class 1 falls in train data ? it is a problem \n",
    "# u will think u got a 100% score but unfortunately it is a wrong score\n",
    "# The Answer Here is using Stratified Method when splits the data\n",
    "X_train , X_test , y_train , y_test = train_test_split(X , y,test_size=0.2 , stratify=y)"
   ]
  },
  {
   "cell_type": "code",
   "execution_count": 34,
   "id": "02eee822",
   "metadata": {},
   "outputs": [
    {
     "data": {
      "text/plain": [
       "(1    132\n",
       " 0    110\n",
       " Name: target, dtype: int64,\n",
       " 1    33\n",
       " 0    28\n",
       " Name: target, dtype: int64,\n",
       " 0.5454545454545454,\n",
       " 0.5409836065573771)"
      ]
     },
     "execution_count": 34,
     "metadata": {},
     "output_type": "execute_result"
    }
   ],
   "source": [
    "# it has the same propotion\n",
    "y_train.value_counts() , y_test.value_counts() , 132/242 , 33 / 61"
   ]
  },
  {
   "cell_type": "markdown",
   "id": "332f83a0",
   "metadata": {},
   "source": [
    "### Tip--14"
   ]
  },
  {
   "cell_type": "markdown",
   "id": "3985e248",
   "metadata": {},
   "source": [
    "**Two Options to impute missing Values for Categorical Feature**<pre>\n",
    "**1-impute with the most_frequent value (mode)**\n",
    "**2-if the missing values is a large number treat it as a new class, for example make it equal \"missing\"**"
   ]
  },
  {
   "cell_type": "markdown",
   "id": "3fa0b510",
   "metadata": {},
   "source": [
    "### Tip--15"
   ]
  },
  {
   "cell_type": "markdown",
   "id": "5e53b477",
   "metadata": {},
   "source": [
    "**Shuffle Your Data Before Using Cross-Validation With KFolds Or StratifiedKFold**"
   ]
  },
  {
   "cell_type": "code",
   "execution_count": 35,
   "id": "da212a2d",
   "metadata": {},
   "outputs": [
    {
     "data": {
      "text/plain": [
       "array([0.68852459, 0.6557377 , 0.63934426, 0.61666667, 0.6       ])"
      ]
     },
     "execution_count": 35,
     "metadata": {},
     "output_type": "execute_result"
    }
   ],
   "source": [
    "from sklearn.model_selection import KFold , StratifiedKFold\n",
    "kf = KFold(5 , shuffle=True ,random_state=33)\n",
    "cross_val_score(lr , X,y , cv = kf)"
   ]
  },
  {
   "cell_type": "markdown",
   "id": "fbb3a3f1",
   "metadata": {},
   "source": [
    "### Tip--16"
   ]
  },
  {
   "cell_type": "markdown",
   "id": "ad43cf3f",
   "metadata": {},
   "source": [
    "**U can make Feature Engineering Within a ColumnTransformer**"
   ]
  },
  {
   "cell_type": "code",
   "execution_count": 36,
   "id": "84ac9b2a",
   "metadata": {},
   "outputs": [
    {
     "data": {
      "text/html": [
       "<div>\n",
       "<style scoped>\n",
       "    .dataframe tbody tr th:only-of-type {\n",
       "        vertical-align: middle;\n",
       "    }\n",
       "\n",
       "    .dataframe tbody tr th {\n",
       "        vertical-align: top;\n",
       "    }\n",
       "\n",
       "    .dataframe thead th {\n",
       "        text-align: right;\n",
       "    }\n",
       "</style>\n",
       "<table border=\"1\" class=\"dataframe\">\n",
       "  <thead>\n",
       "    <tr style=\"text-align: right;\">\n",
       "      <th></th>\n",
       "      <th>Model</th>\n",
       "      <th>Type</th>\n",
       "      <th>Length</th>\n",
       "    </tr>\n",
       "  </thead>\n",
       "  <tbody>\n",
       "    <tr>\n",
       "      <th>0</th>\n",
       "      <td>MDX</td>\n",
       "      <td>SUV</td>\n",
       "      <td>189.0</td>\n",
       "    </tr>\n",
       "    <tr>\n",
       "      <th>1</th>\n",
       "      <td>RSX Type S 2dr</td>\n",
       "      <td>Sedan</td>\n",
       "      <td>172.0</td>\n",
       "    </tr>\n",
       "    <tr>\n",
       "      <th>2</th>\n",
       "      <td>TSX 4dr</td>\n",
       "      <td>Sedan</td>\n",
       "      <td>183.0</td>\n",
       "    </tr>\n",
       "  </tbody>\n",
       "</table>\n",
       "</div>"
      ],
      "text/plain": [
       "            Model   Type  Length\n",
       "0             MDX    SUV   189.0\n",
       "1  RSX Type S 2dr  Sedan   172.0\n",
       "2         TSX 4dr  Sedan   183.0"
      ]
     },
     "execution_count": 36,
     "metadata": {},
     "output_type": "execute_result"
    }
   ],
   "source": [
    "from sklearn.preprocessing import FunctionTransformer \n",
    "from sklearn.compose import ColumnTransformer\n",
    "df = pd.read_csv('../2. Cars Data1.csv')\n",
    "df = df[['Model','Type','Length']].head(3)\n",
    "df"
   ]
  },
  {
   "cell_type": "code",
   "execution_count": 37,
   "id": "9594ce40",
   "metadata": {},
   "outputs": [
    {
     "data": {
      "text/plain": [
       "array([['M', 'S'],\n",
       "       ['R', 'S'],\n",
       "       ['T', 'S']], dtype=object)"
      ]
     },
     "execution_count": 37,
     "metadata": {},
     "output_type": "execute_result"
    }
   ],
   "source": [
    "# it's very useful for preventing data leakage and it is better when dealing with a new/test data\n",
    "def first_letter(df):\n",
    "    return df.apply(lambda x : x.str.slice(0,1))\n",
    "\n",
    "get_first_letter = FunctionTransformer(first_letter)\n",
    "\n",
    "ct = make_column_transformer((get_first_letter,['Model','Type']))\n",
    "ct.fit_transform(df)"
   ]
  },
  {
   "cell_type": "code",
   "execution_count": 38,
   "id": "c73bdc5f",
   "metadata": {},
   "outputs": [
    {
     "data": {
      "text/html": [
       "<div>\n",
       "<style scoped>\n",
       "    .dataframe tbody tr th:only-of-type {\n",
       "        vertical-align: middle;\n",
       "    }\n",
       "\n",
       "    .dataframe tbody tr th {\n",
       "        vertical-align: top;\n",
       "    }\n",
       "\n",
       "    .dataframe thead th {\n",
       "        text-align: right;\n",
       "    }\n",
       "</style>\n",
       "<table border=\"1\" class=\"dataframe\">\n",
       "  <thead>\n",
       "    <tr style=\"text-align: right;\">\n",
       "      <th></th>\n",
       "      <th>Model</th>\n",
       "      <th>Type</th>\n",
       "      <th>Length</th>\n",
       "    </tr>\n",
       "  </thead>\n",
       "  <tbody>\n",
       "    <tr>\n",
       "      <th>0</th>\n",
       "      <td>MDX</td>\n",
       "      <td>SUV</td>\n",
       "      <td>189.0</td>\n",
       "    </tr>\n",
       "    <tr>\n",
       "      <th>1</th>\n",
       "      <td>RSX Type S 2dr</td>\n",
       "      <td>Sedan</td>\n",
       "      <td>172.0</td>\n",
       "    </tr>\n",
       "    <tr>\n",
       "      <th>2</th>\n",
       "      <td>TSX 4dr</td>\n",
       "      <td>Sedan</td>\n",
       "      <td>183.0</td>\n",
       "    </tr>\n",
       "  </tbody>\n",
       "</table>\n",
       "</div>"
      ],
      "text/plain": [
       "            Model   Type  Length\n",
       "0             MDX    SUV   189.0\n",
       "1  RSX Type S 2dr  Sedan   172.0\n",
       "2         TSX 4dr  Sedan   183.0"
      ]
     },
     "execution_count": 38,
     "metadata": {},
     "output_type": "execute_result"
    }
   ],
   "source": [
    "df"
   ]
  },
  {
   "cell_type": "markdown",
   "id": "6612f456",
   "metadata": {},
   "source": [
    "### Tip--17"
   ]
  },
  {
   "cell_type": "markdown",
   "id": "ac86f487",
   "metadata": {},
   "source": [
    "**Create an interactive diagram of Pipelines**"
   ]
  },
  {
   "cell_type": "code",
   "execution_count": 39,
   "id": "6611fa74",
   "metadata": {},
   "outputs": [
    {
     "data": {
      "text/html": [
       "<style>#sk-41f5e738-4d58-402a-9ac3-c6f852d7ec11 {color: black;background-color: white;}#sk-41f5e738-4d58-402a-9ac3-c6f852d7ec11 pre{padding: 0;}#sk-41f5e738-4d58-402a-9ac3-c6f852d7ec11 div.sk-toggleable {background-color: white;}#sk-41f5e738-4d58-402a-9ac3-c6f852d7ec11 label.sk-toggleable__label {cursor: pointer;display: block;width: 100%;margin-bottom: 0;padding: 0.3em;box-sizing: border-box;text-align: center;}#sk-41f5e738-4d58-402a-9ac3-c6f852d7ec11 label.sk-toggleable__label-arrow:before {content: \"▸\";float: left;margin-right: 0.25em;color: #696969;}#sk-41f5e738-4d58-402a-9ac3-c6f852d7ec11 label.sk-toggleable__label-arrow:hover:before {color: black;}#sk-41f5e738-4d58-402a-9ac3-c6f852d7ec11 div.sk-estimator:hover label.sk-toggleable__label-arrow:before {color: black;}#sk-41f5e738-4d58-402a-9ac3-c6f852d7ec11 div.sk-toggleable__content {max-height: 0;max-width: 0;overflow: hidden;text-align: left;background-color: #f0f8ff;}#sk-41f5e738-4d58-402a-9ac3-c6f852d7ec11 div.sk-toggleable__content pre {margin: 0.2em;color: black;border-radius: 0.25em;background-color: #f0f8ff;}#sk-41f5e738-4d58-402a-9ac3-c6f852d7ec11 input.sk-toggleable__control:checked~div.sk-toggleable__content {max-height: 200px;max-width: 100%;overflow: auto;}#sk-41f5e738-4d58-402a-9ac3-c6f852d7ec11 input.sk-toggleable__control:checked~label.sk-toggleable__label-arrow:before {content: \"▾\";}#sk-41f5e738-4d58-402a-9ac3-c6f852d7ec11 div.sk-estimator input.sk-toggleable__control:checked~label.sk-toggleable__label {background-color: #d4ebff;}#sk-41f5e738-4d58-402a-9ac3-c6f852d7ec11 div.sk-label input.sk-toggleable__control:checked~label.sk-toggleable__label {background-color: #d4ebff;}#sk-41f5e738-4d58-402a-9ac3-c6f852d7ec11 input.sk-hidden--visually {border: 0;clip: rect(1px 1px 1px 1px);clip: rect(1px, 1px, 1px, 1px);height: 1px;margin: -1px;overflow: hidden;padding: 0;position: absolute;width: 1px;}#sk-41f5e738-4d58-402a-9ac3-c6f852d7ec11 div.sk-estimator {font-family: monospace;background-color: #f0f8ff;border: 1px dotted black;border-radius: 0.25em;box-sizing: border-box;margin-bottom: 0.5em;}#sk-41f5e738-4d58-402a-9ac3-c6f852d7ec11 div.sk-estimator:hover {background-color: #d4ebff;}#sk-41f5e738-4d58-402a-9ac3-c6f852d7ec11 div.sk-parallel-item::after {content: \"\";width: 100%;border-bottom: 1px solid gray;flex-grow: 1;}#sk-41f5e738-4d58-402a-9ac3-c6f852d7ec11 div.sk-label:hover label.sk-toggleable__label {background-color: #d4ebff;}#sk-41f5e738-4d58-402a-9ac3-c6f852d7ec11 div.sk-serial::before {content: \"\";position: absolute;border-left: 1px solid gray;box-sizing: border-box;top: 2em;bottom: 0;left: 50%;}#sk-41f5e738-4d58-402a-9ac3-c6f852d7ec11 div.sk-serial {display: flex;flex-direction: column;align-items: center;background-color: white;padding-right: 0.2em;padding-left: 0.2em;}#sk-41f5e738-4d58-402a-9ac3-c6f852d7ec11 div.sk-item {z-index: 1;}#sk-41f5e738-4d58-402a-9ac3-c6f852d7ec11 div.sk-parallel {display: flex;align-items: stretch;justify-content: center;background-color: white;}#sk-41f5e738-4d58-402a-9ac3-c6f852d7ec11 div.sk-parallel::before {content: \"\";position: absolute;border-left: 1px solid gray;box-sizing: border-box;top: 2em;bottom: 0;left: 50%;}#sk-41f5e738-4d58-402a-9ac3-c6f852d7ec11 div.sk-parallel-item {display: flex;flex-direction: column;position: relative;background-color: white;}#sk-41f5e738-4d58-402a-9ac3-c6f852d7ec11 div.sk-parallel-item:first-child::after {align-self: flex-end;width: 50%;}#sk-41f5e738-4d58-402a-9ac3-c6f852d7ec11 div.sk-parallel-item:last-child::after {align-self: flex-start;width: 50%;}#sk-41f5e738-4d58-402a-9ac3-c6f852d7ec11 div.sk-parallel-item:only-child::after {width: 0;}#sk-41f5e738-4d58-402a-9ac3-c6f852d7ec11 div.sk-dashed-wrapped {border: 1px dashed gray;margin: 0 0.4em 0.5em 0.4em;box-sizing: border-box;padding-bottom: 0.4em;background-color: white;position: relative;}#sk-41f5e738-4d58-402a-9ac3-c6f852d7ec11 div.sk-label label {font-family: monospace;font-weight: bold;background-color: white;display: inline-block;line-height: 1.2em;}#sk-41f5e738-4d58-402a-9ac3-c6f852d7ec11 div.sk-label-container {position: relative;z-index: 2;text-align: center;}#sk-41f5e738-4d58-402a-9ac3-c6f852d7ec11 div.sk-container {/* jupyter's `normalize.less` sets `[hidden] { display: none; }` but bootstrap.min.css set `[hidden] { display: none !important; }` so we also need the `!important` here to be able to override the default hidden behavior on the sphinx rendered scikit-learn.org. See: https://github.com/scikit-learn/scikit-learn/issues/21755 */display: inline-block !important;position: relative;}#sk-41f5e738-4d58-402a-9ac3-c6f852d7ec11 div.sk-text-repr-fallback {display: none;}</style><div id=\"sk-41f5e738-4d58-402a-9ac3-c6f852d7ec11\" class=\"sk-top-container\"><div class=\"sk-text-repr-fallback\"><pre>Pipeline(steps=[(&#x27;columntransformer&#x27;,\n",
       "                 ColumnTransformer(transformers=[(&#x27;simpleimputer&#x27;,\n",
       "                                                  SimpleImputer(), [&#x27;Length&#x27;]),\n",
       "                                                 (&#x27;functiontransformer&#x27;,\n",
       "                                                  FunctionTransformer(func=&lt;function first_letter at 0x0000023A8AE6D708&gt;),\n",
       "                                                  [&#x27;Model&#x27;, &#x27;Type&#x27;])])),\n",
       "                (&#x27;logisticregression&#x27;, LogisticRegression())])</pre><b>Please rerun this cell to show the HTML repr or trust the notebook.</b></div><div class=\"sk-container\" hidden><div class=\"sk-item sk-dashed-wrapped\"><div class=\"sk-label-container\"><div class=\"sk-label sk-toggleable\"><input class=\"sk-toggleable__control sk-hidden--visually\" id=\"5059d3d6-cad7-4e5b-b404-cdba89c6fa91\" type=\"checkbox\" ><label for=\"5059d3d6-cad7-4e5b-b404-cdba89c6fa91\" class=\"sk-toggleable__label sk-toggleable__label-arrow\">Pipeline</label><div class=\"sk-toggleable__content\"><pre>Pipeline(steps=[(&#x27;columntransformer&#x27;,\n",
       "                 ColumnTransformer(transformers=[(&#x27;simpleimputer&#x27;,\n",
       "                                                  SimpleImputer(), [&#x27;Length&#x27;]),\n",
       "                                                 (&#x27;functiontransformer&#x27;,\n",
       "                                                  FunctionTransformer(func=&lt;function first_letter at 0x0000023A8AE6D708&gt;),\n",
       "                                                  [&#x27;Model&#x27;, &#x27;Type&#x27;])])),\n",
       "                (&#x27;logisticregression&#x27;, LogisticRegression())])</pre></div></div></div><div class=\"sk-serial\"><div class=\"sk-item sk-dashed-wrapped\"><div class=\"sk-label-container\"><div class=\"sk-label sk-toggleable\"><input class=\"sk-toggleable__control sk-hidden--visually\" id=\"ea74d7ff-403c-4eb8-b4f6-ad47991fb09c\" type=\"checkbox\" ><label for=\"ea74d7ff-403c-4eb8-b4f6-ad47991fb09c\" class=\"sk-toggleable__label sk-toggleable__label-arrow\">columntransformer: ColumnTransformer</label><div class=\"sk-toggleable__content\"><pre>ColumnTransformer(transformers=[(&#x27;simpleimputer&#x27;, SimpleImputer(), [&#x27;Length&#x27;]),\n",
       "                                (&#x27;functiontransformer&#x27;,\n",
       "                                 FunctionTransformer(func=&lt;function first_letter at 0x0000023A8AE6D708&gt;),\n",
       "                                 [&#x27;Model&#x27;, &#x27;Type&#x27;])])</pre></div></div></div><div class=\"sk-parallel\"><div class=\"sk-parallel-item\"><div class=\"sk-item\"><div class=\"sk-label-container\"><div class=\"sk-label sk-toggleable\"><input class=\"sk-toggleable__control sk-hidden--visually\" id=\"3e65d352-046e-47b3-982f-b35f9a901efd\" type=\"checkbox\" ><label for=\"3e65d352-046e-47b3-982f-b35f9a901efd\" class=\"sk-toggleable__label sk-toggleable__label-arrow\">simpleimputer</label><div class=\"sk-toggleable__content\"><pre>[&#x27;Length&#x27;]</pre></div></div></div><div class=\"sk-serial\"><div class=\"sk-item\"><div class=\"sk-estimator sk-toggleable\"><input class=\"sk-toggleable__control sk-hidden--visually\" id=\"2053595d-0d27-422a-ad6a-f979ad29bc20\" type=\"checkbox\" ><label for=\"2053595d-0d27-422a-ad6a-f979ad29bc20\" class=\"sk-toggleable__label sk-toggleable__label-arrow\">SimpleImputer</label><div class=\"sk-toggleable__content\"><pre>SimpleImputer()</pre></div></div></div></div></div></div><div class=\"sk-parallel-item\"><div class=\"sk-item\"><div class=\"sk-label-container\"><div class=\"sk-label sk-toggleable\"><input class=\"sk-toggleable__control sk-hidden--visually\" id=\"f09f2050-bbd5-4f33-aa47-59cd46c2809b\" type=\"checkbox\" ><label for=\"f09f2050-bbd5-4f33-aa47-59cd46c2809b\" class=\"sk-toggleable__label sk-toggleable__label-arrow\">functiontransformer</label><div class=\"sk-toggleable__content\"><pre>[&#x27;Model&#x27;, &#x27;Type&#x27;]</pre></div></div></div><div class=\"sk-serial\"><div class=\"sk-item\"><div class=\"sk-estimator sk-toggleable\"><input class=\"sk-toggleable__control sk-hidden--visually\" id=\"46377ed5-7bf6-4be1-b278-dc90e8f23b15\" type=\"checkbox\" ><label for=\"46377ed5-7bf6-4be1-b278-dc90e8f23b15\" class=\"sk-toggleable__label sk-toggleable__label-arrow\">FunctionTransformer</label><div class=\"sk-toggleable__content\"><pre>FunctionTransformer(func=&lt;function first_letter at 0x0000023A8AE6D708&gt;)</pre></div></div></div></div></div></div></div></div><div class=\"sk-item\"><div class=\"sk-estimator sk-toggleable\"><input class=\"sk-toggleable__control sk-hidden--visually\" id=\"9ed81afe-0262-4c9e-b4bc-b2c32050416d\" type=\"checkbox\" ><label for=\"9ed81afe-0262-4c9e-b4bc-b2c32050416d\" class=\"sk-toggleable__label sk-toggleable__label-arrow\">LogisticRegression</label><div class=\"sk-toggleable__content\"><pre>LogisticRegression()</pre></div></div></div></div></div></div></div>"
      ],
      "text/plain": [
       "Pipeline(steps=[('columntransformer',\n",
       "                 ColumnTransformer(transformers=[('simpleimputer',\n",
       "                                                  SimpleImputer(), ['Length']),\n",
       "                                                 ('functiontransformer',\n",
       "                                                  FunctionTransformer(func=<function first_letter at 0x0000023A8AE6D708>),\n",
       "                                                  ['Model', 'Type'])])),\n",
       "                ('logisticregression', LogisticRegression())])"
      ]
     },
     "execution_count": 39,
     "metadata": {},
     "output_type": "execute_result"
    }
   ],
   "source": [
    "from sklearn import set_config \n",
    "\n",
    "set_config(display = 'diagram')\n",
    "ct = make_column_transformer((SimpleImputer() ,['Length']) , (get_first_letter,['Model','Type']) )\n",
    "lr = LogisticRegression()\n",
    "pipe = make_pipeline(ct, lr)\n",
    "pipe"
   ]
  },
  {
   "cell_type": "markdown",
   "id": "85479504",
   "metadata": {},
   "source": [
    "### Tip--18"
   ]
  },
  {
   "cell_type": "markdown",
   "id": "30e48a4a",
   "metadata": {},
   "source": [
    "**Get Features Names after Column Transformer**"
   ]
  },
  {
   "cell_type": "code",
   "execution_count": 40,
   "id": "c286cddd",
   "metadata": {},
   "outputs": [
    {
     "data": {
      "text/html": [
       "<div>\n",
       "<style scoped>\n",
       "    .dataframe tbody tr th:only-of-type {\n",
       "        vertical-align: middle;\n",
       "    }\n",
       "\n",
       "    .dataframe tbody tr th {\n",
       "        vertical-align: top;\n",
       "    }\n",
       "\n",
       "    .dataframe thead th {\n",
       "        text-align: right;\n",
       "    }\n",
       "</style>\n",
       "<table border=\"1\" class=\"dataframe\">\n",
       "  <thead>\n",
       "    <tr style=\"text-align: right;\">\n",
       "      <th></th>\n",
       "      <th>embarked</th>\n",
       "      <th>sex</th>\n",
       "      <th>fare</th>\n",
       "    </tr>\n",
       "  </thead>\n",
       "  <tbody>\n",
       "    <tr>\n",
       "      <th>63</th>\n",
       "      <td>S</td>\n",
       "      <td>female</td>\n",
       "      <td>61.175</td>\n",
       "    </tr>\n",
       "    <tr>\n",
       "      <th>37</th>\n",
       "      <td>S</td>\n",
       "      <td>male</td>\n",
       "      <td>26.55</td>\n",
       "    </tr>\n",
       "    <tr>\n",
       "      <th>362</th>\n",
       "      <td>S</td>\n",
       "      <td>female</td>\n",
       "      <td>21</td>\n",
       "    </tr>\n",
       "    <tr>\n",
       "      <th>249</th>\n",
       "      <td>C</td>\n",
       "      <td>male</td>\n",
       "      <td>262.375</td>\n",
       "    </tr>\n",
       "    <tr>\n",
       "      <th>500</th>\n",
       "      <td>S</td>\n",
       "      <td>male</td>\n",
       "      <td>26</td>\n",
       "    </tr>\n",
       "    <tr>\n",
       "      <th>608</th>\n",
       "      <td>S</td>\n",
       "      <td>male</td>\n",
       "      <td>7.25</td>\n",
       "    </tr>\n",
       "    <tr>\n",
       "      <th>485</th>\n",
       "      <td>C</td>\n",
       "      <td>male</td>\n",
       "      <td>12.875</td>\n",
       "    </tr>\n",
       "    <tr>\n",
       "      <th>568</th>\n",
       "      <td>S</td>\n",
       "      <td>male</td>\n",
       "      <td>13</td>\n",
       "    </tr>\n",
       "    <tr>\n",
       "      <th>406</th>\n",
       "      <td>S</td>\n",
       "      <td>male</td>\n",
       "      <td>26</td>\n",
       "    </tr>\n",
       "    <tr>\n",
       "      <th>1088</th>\n",
       "      <td>S</td>\n",
       "      <td>male</td>\n",
       "      <td>7.775</td>\n",
       "    </tr>\n",
       "  </tbody>\n",
       "</table>\n",
       "</div>"
      ],
      "text/plain": [
       "     embarked     sex     fare\n",
       "63          S  female   61.175\n",
       "37          S    male    26.55\n",
       "362         S  female       21\n",
       "249         C    male  262.375\n",
       "500         S    male       26\n",
       "608         S    male     7.25\n",
       "485         C    male   12.875\n",
       "568         S    male       13\n",
       "406         S    male       26\n",
       "1088        S    male    7.775"
      ]
     },
     "execution_count": 40,
     "metadata": {},
     "output_type": "execute_result"
    }
   ],
   "source": [
    "df = pd.read_csv('../data/Collection_of_data/titanic.csv')\n",
    "df = df.sample(10)[['embarked','sex','fare']]\n",
    "df"
   ]
  },
  {
   "cell_type": "code",
   "execution_count": 41,
   "id": "695f3b3e",
   "metadata": {},
   "outputs": [],
   "source": [
    "df['fare'] = pd.to_numeric(df['fare'])"
   ]
  },
  {
   "cell_type": "code",
   "execution_count": 42,
   "id": "6cacf588",
   "metadata": {},
   "outputs": [
    {
     "data": {
      "text/plain": [
       "array([[  0.   ,   1.   ,   1.   ,   0.   ,  61.175],\n",
       "       [  0.   ,   1.   ,   0.   ,   1.   ,  26.55 ],\n",
       "       [  0.   ,   1.   ,   1.   ,   0.   ,  21.   ],\n",
       "       [  1.   ,   0.   ,   0.   ,   1.   , 262.375],\n",
       "       [  0.   ,   1.   ,   0.   ,   1.   ,  26.   ],\n",
       "       [  0.   ,   1.   ,   0.   ,   1.   ,   7.25 ],\n",
       "       [  1.   ,   0.   ,   0.   ,   1.   ,  12.875],\n",
       "       [  0.   ,   1.   ,   0.   ,   1.   ,  13.   ],\n",
       "       [  0.   ,   1.   ,   0.   ,   1.   ,  26.   ],\n",
       "       [  0.   ,   1.   ,   0.   ,   1.   ,   7.775]])"
      ]
     },
     "execution_count": 42,
     "metadata": {},
     "output_type": "execute_result"
    }
   ],
   "source": [
    "ct = make_column_transformer((OneHotEncoder(),['embarked','sex']),remainder= 'passthrough')\n",
    "ct.fit_transform(df)"
   ]
  },
  {
   "cell_type": "code",
   "execution_count": 43,
   "id": "4ede457c",
   "metadata": {},
   "outputs": [
    {
     "data": {
      "text/plain": [
       "['onehotencoder__x0_C',\n",
       " 'onehotencoder__x0_S',\n",
       " 'onehotencoder__x1_female',\n",
       " 'onehotencoder__x1_male',\n",
       " 'fare']"
      ]
     },
     "execution_count": 43,
     "metadata": {},
     "output_type": "execute_result"
    }
   ],
   "source": [
    "ct.get_feature_names()"
   ]
  },
  {
   "cell_type": "code",
   "execution_count": 44,
   "id": "7c351c37",
   "metadata": {},
   "outputs": [
    {
     "name": "stdout",
     "output_type": "stream",
     "text": [
      "C\n",
      "S\n",
      "female\n",
      "male\n",
      "fare\n"
     ]
    }
   ],
   "source": [
    "# Tip u can ignore if u want , can u remake the DataFrame with new columns ? \n",
    "features = ct.get_feature_names()\n",
    "for i in features:\n",
    "    print(i.split(sep = '_')[-1])\n"
   ]
  },
  {
   "cell_type": "markdown",
   "id": "f509e390",
   "metadata": {},
   "source": [
    "### Tip--19"
   ]
  },
  {
   "cell_type": "markdown",
   "id": "4d2aa526",
   "metadata": {},
   "source": [
    "**Speed up GridSearchCV with Parallel Processing Using n_jobs = -1**"
   ]
  },
  {
   "cell_type": "markdown",
   "id": "e5fec4ae",
   "metadata": {},
   "source": [
    "### Tip--20 "
   ]
  },
  {
   "cell_type": "markdown",
   "id": "781f6b00",
   "metadata": {},
   "source": [
    "**U Could improve the model performance by creating multiple models and ensemble them using VotingClassifer**"
   ]
  },
  {
   "cell_type": "code",
   "execution_count": 45,
   "id": "8f028880",
   "metadata": {},
   "outputs": [
    {
     "data": {
      "text/html": [
       "<div>\n",
       "<style scoped>\n",
       "    .dataframe tbody tr th:only-of-type {\n",
       "        vertical-align: middle;\n",
       "    }\n",
       "\n",
       "    .dataframe tbody tr th {\n",
       "        vertical-align: top;\n",
       "    }\n",
       "\n",
       "    .dataframe thead th {\n",
       "        text-align: right;\n",
       "    }\n",
       "</style>\n",
       "<table border=\"1\" class=\"dataframe\">\n",
       "  <thead>\n",
       "    <tr style=\"text-align: right;\">\n",
       "      <th></th>\n",
       "      <th>Pregnancies</th>\n",
       "      <th>Glucose</th>\n",
       "      <th>BloodPressure</th>\n",
       "      <th>SkinThickness</th>\n",
       "      <th>Insulin</th>\n",
       "      <th>BMI</th>\n",
       "      <th>DiabetesPedigreeFunction</th>\n",
       "      <th>Age</th>\n",
       "      <th>Outcome</th>\n",
       "    </tr>\n",
       "  </thead>\n",
       "  <tbody>\n",
       "    <tr>\n",
       "      <th>0</th>\n",
       "      <td>6</td>\n",
       "      <td>148</td>\n",
       "      <td>72</td>\n",
       "      <td>35</td>\n",
       "      <td>0</td>\n",
       "      <td>33.6</td>\n",
       "      <td>0.627</td>\n",
       "      <td>50</td>\n",
       "      <td>1</td>\n",
       "    </tr>\n",
       "    <tr>\n",
       "      <th>1</th>\n",
       "      <td>1</td>\n",
       "      <td>85</td>\n",
       "      <td>66</td>\n",
       "      <td>29</td>\n",
       "      <td>0</td>\n",
       "      <td>26.6</td>\n",
       "      <td>0.351</td>\n",
       "      <td>31</td>\n",
       "      <td>0</td>\n",
       "    </tr>\n",
       "    <tr>\n",
       "      <th>2</th>\n",
       "      <td>8</td>\n",
       "      <td>183</td>\n",
       "      <td>64</td>\n",
       "      <td>0</td>\n",
       "      <td>0</td>\n",
       "      <td>23.3</td>\n",
       "      <td>0.672</td>\n",
       "      <td>32</td>\n",
       "      <td>1</td>\n",
       "    </tr>\n",
       "    <tr>\n",
       "      <th>3</th>\n",
       "      <td>1</td>\n",
       "      <td>89</td>\n",
       "      <td>66</td>\n",
       "      <td>23</td>\n",
       "      <td>94</td>\n",
       "      <td>28.1</td>\n",
       "      <td>0.167</td>\n",
       "      <td>21</td>\n",
       "      <td>0</td>\n",
       "    </tr>\n",
       "    <tr>\n",
       "      <th>4</th>\n",
       "      <td>0</td>\n",
       "      <td>137</td>\n",
       "      <td>40</td>\n",
       "      <td>35</td>\n",
       "      <td>168</td>\n",
       "      <td>43.1</td>\n",
       "      <td>2.288</td>\n",
       "      <td>33</td>\n",
       "      <td>1</td>\n",
       "    </tr>\n",
       "  </tbody>\n",
       "</table>\n",
       "</div>"
      ],
      "text/plain": [
       "   Pregnancies  Glucose  BloodPressure  SkinThickness  Insulin   BMI  \\\n",
       "0            6      148             72             35        0  33.6   \n",
       "1            1       85             66             29        0  26.6   \n",
       "2            8      183             64              0        0  23.3   \n",
       "3            1       89             66             23       94  28.1   \n",
       "4            0      137             40             35      168  43.1   \n",
       "\n",
       "   DiabetesPedigreeFunction  Age  Outcome  \n",
       "0                     0.627   50        1  \n",
       "1                     0.351   31        0  \n",
       "2                     0.672   32        1  \n",
       "3                     0.167   21        0  \n",
       "4                     2.288   33        1  "
      ]
     },
     "execution_count": 45,
     "metadata": {},
     "output_type": "execute_result"
    }
   ],
   "source": [
    "from sklearn.ensemble import RandomForestClassifier , VotingClassifier\n",
    "from sklearn.linear_model import LogisticRegression\n",
    "from sklearn.model_selection import cross_val_score\n",
    "df = pd.read_csv('../diabetes.csv')\n",
    "df.head()"
   ]
  },
  {
   "cell_type": "code",
   "execution_count": 46,
   "id": "7685057c",
   "metadata": {},
   "outputs": [],
   "source": [
    "X = df.drop(columns='Outcome')\n",
    "y = df.Outcome"
   ]
  },
  {
   "cell_type": "code",
   "execution_count": 47,
   "id": "af66648d",
   "metadata": {},
   "outputs": [
    {
     "data": {
      "text/plain": [
       "(0.7708768355827178, 0.7682879212290977)"
      ]
     },
     "execution_count": 47,
     "metadata": {},
     "output_type": "execute_result"
    }
   ],
   "source": [
    "lr , rf = LogisticRegression(), RandomForestClassifier()\n",
    "cross_val_score(lr,X,y).mean() , cross_val_score(rf,X,y).mean()"
   ]
  },
  {
   "cell_type": "code",
   "execution_count": 48,
   "id": "14462da6",
   "metadata": {},
   "outputs": [
    {
     "data": {
      "text/plain": [
       "0.7734827264239028"
      ]
     },
     "execution_count": 48,
     "metadata": {},
     "output_type": "execute_result"
    }
   ],
   "source": [
    "# Usually it gets a better performance , i will tell u why in the video because it needs a good explaination\n",
    "vc = VotingClassifier([('clf1',lr),('clf2',rf)] , voting = 'soft')\n",
    "cross_val_score(vc , X,y).mean()"
   ]
  },
  {
   "cell_type": "markdown",
   "id": "055fd204",
   "metadata": {},
   "source": [
    "### Tip--21"
   ]
  },
  {
   "cell_type": "markdown",
   "id": "b0bdd660",
   "metadata": {},
   "source": [
    "**Improve the performance of VotingClassifer With Tuning the Parameters**"
   ]
  },
  {
   "cell_type": "code",
   "execution_count": 49,
   "id": "7fa3622a",
   "metadata": {},
   "outputs": [
    {
     "data": {
      "text/html": [
       "<style>#sk-c5ff149a-a2f8-476c-98dd-d502f39bc83f {color: black;background-color: white;}#sk-c5ff149a-a2f8-476c-98dd-d502f39bc83f pre{padding: 0;}#sk-c5ff149a-a2f8-476c-98dd-d502f39bc83f div.sk-toggleable {background-color: white;}#sk-c5ff149a-a2f8-476c-98dd-d502f39bc83f label.sk-toggleable__label {cursor: pointer;display: block;width: 100%;margin-bottom: 0;padding: 0.3em;box-sizing: border-box;text-align: center;}#sk-c5ff149a-a2f8-476c-98dd-d502f39bc83f label.sk-toggleable__label-arrow:before {content: \"▸\";float: left;margin-right: 0.25em;color: #696969;}#sk-c5ff149a-a2f8-476c-98dd-d502f39bc83f label.sk-toggleable__label-arrow:hover:before {color: black;}#sk-c5ff149a-a2f8-476c-98dd-d502f39bc83f div.sk-estimator:hover label.sk-toggleable__label-arrow:before {color: black;}#sk-c5ff149a-a2f8-476c-98dd-d502f39bc83f div.sk-toggleable__content {max-height: 0;max-width: 0;overflow: hidden;text-align: left;background-color: #f0f8ff;}#sk-c5ff149a-a2f8-476c-98dd-d502f39bc83f div.sk-toggleable__content pre {margin: 0.2em;color: black;border-radius: 0.25em;background-color: #f0f8ff;}#sk-c5ff149a-a2f8-476c-98dd-d502f39bc83f input.sk-toggleable__control:checked~div.sk-toggleable__content {max-height: 200px;max-width: 100%;overflow: auto;}#sk-c5ff149a-a2f8-476c-98dd-d502f39bc83f input.sk-toggleable__control:checked~label.sk-toggleable__label-arrow:before {content: \"▾\";}#sk-c5ff149a-a2f8-476c-98dd-d502f39bc83f div.sk-estimator input.sk-toggleable__control:checked~label.sk-toggleable__label {background-color: #d4ebff;}#sk-c5ff149a-a2f8-476c-98dd-d502f39bc83f div.sk-label input.sk-toggleable__control:checked~label.sk-toggleable__label {background-color: #d4ebff;}#sk-c5ff149a-a2f8-476c-98dd-d502f39bc83f input.sk-hidden--visually {border: 0;clip: rect(1px 1px 1px 1px);clip: rect(1px, 1px, 1px, 1px);height: 1px;margin: -1px;overflow: hidden;padding: 0;position: absolute;width: 1px;}#sk-c5ff149a-a2f8-476c-98dd-d502f39bc83f div.sk-estimator {font-family: monospace;background-color: #f0f8ff;border: 1px dotted black;border-radius: 0.25em;box-sizing: border-box;margin-bottom: 0.5em;}#sk-c5ff149a-a2f8-476c-98dd-d502f39bc83f div.sk-estimator:hover {background-color: #d4ebff;}#sk-c5ff149a-a2f8-476c-98dd-d502f39bc83f div.sk-parallel-item::after {content: \"\";width: 100%;border-bottom: 1px solid gray;flex-grow: 1;}#sk-c5ff149a-a2f8-476c-98dd-d502f39bc83f div.sk-label:hover label.sk-toggleable__label {background-color: #d4ebff;}#sk-c5ff149a-a2f8-476c-98dd-d502f39bc83f div.sk-serial::before {content: \"\";position: absolute;border-left: 1px solid gray;box-sizing: border-box;top: 2em;bottom: 0;left: 50%;}#sk-c5ff149a-a2f8-476c-98dd-d502f39bc83f div.sk-serial {display: flex;flex-direction: column;align-items: center;background-color: white;padding-right: 0.2em;padding-left: 0.2em;}#sk-c5ff149a-a2f8-476c-98dd-d502f39bc83f div.sk-item {z-index: 1;}#sk-c5ff149a-a2f8-476c-98dd-d502f39bc83f div.sk-parallel {display: flex;align-items: stretch;justify-content: center;background-color: white;}#sk-c5ff149a-a2f8-476c-98dd-d502f39bc83f div.sk-parallel::before {content: \"\";position: absolute;border-left: 1px solid gray;box-sizing: border-box;top: 2em;bottom: 0;left: 50%;}#sk-c5ff149a-a2f8-476c-98dd-d502f39bc83f div.sk-parallel-item {display: flex;flex-direction: column;position: relative;background-color: white;}#sk-c5ff149a-a2f8-476c-98dd-d502f39bc83f div.sk-parallel-item:first-child::after {align-self: flex-end;width: 50%;}#sk-c5ff149a-a2f8-476c-98dd-d502f39bc83f div.sk-parallel-item:last-child::after {align-self: flex-start;width: 50%;}#sk-c5ff149a-a2f8-476c-98dd-d502f39bc83f div.sk-parallel-item:only-child::after {width: 0;}#sk-c5ff149a-a2f8-476c-98dd-d502f39bc83f div.sk-dashed-wrapped {border: 1px dashed gray;margin: 0 0.4em 0.5em 0.4em;box-sizing: border-box;padding-bottom: 0.4em;background-color: white;position: relative;}#sk-c5ff149a-a2f8-476c-98dd-d502f39bc83f div.sk-label label {font-family: monospace;font-weight: bold;background-color: white;display: inline-block;line-height: 1.2em;}#sk-c5ff149a-a2f8-476c-98dd-d502f39bc83f div.sk-label-container {position: relative;z-index: 2;text-align: center;}#sk-c5ff149a-a2f8-476c-98dd-d502f39bc83f div.sk-container {/* jupyter's `normalize.less` sets `[hidden] { display: none; }` but bootstrap.min.css set `[hidden] { display: none !important; }` so we also need the `!important` here to be able to override the default hidden behavior on the sphinx rendered scikit-learn.org. See: https://github.com/scikit-learn/scikit-learn/issues/21755 */display: inline-block !important;position: relative;}#sk-c5ff149a-a2f8-476c-98dd-d502f39bc83f div.sk-text-repr-fallback {display: none;}</style><div id=\"sk-c5ff149a-a2f8-476c-98dd-d502f39bc83f\" class=\"sk-top-container\"><div class=\"sk-text-repr-fallback\"><pre>GridSearchCV(estimator=VotingClassifier(estimators=[(&#x27;clf1&#x27;,\n",
       "                                                     LogisticRegression()),\n",
       "                                                    (&#x27;clf2&#x27;,\n",
       "                                                     RandomForestClassifier())]),\n",
       "             n_jobs=-1,\n",
       "             param_grid={&#x27;voting&#x27;: [&#x27;soft&#x27;, &#x27;hard&#x27;],\n",
       "                         &#x27;weights&#x27;: [(1, 1), (1, 2), (2, 1)]})</pre><b>Please rerun this cell to show the HTML repr or trust the notebook.</b></div><div class=\"sk-container\" hidden><div class=\"sk-item sk-dashed-wrapped\"><div class=\"sk-label-container\"><div class=\"sk-label sk-toggleable\"><input class=\"sk-toggleable__control sk-hidden--visually\" id=\"9ebbed63-6a43-4342-8df2-634663e1d23b\" type=\"checkbox\" ><label for=\"9ebbed63-6a43-4342-8df2-634663e1d23b\" class=\"sk-toggleable__label sk-toggleable__label-arrow\">GridSearchCV</label><div class=\"sk-toggleable__content\"><pre>GridSearchCV(estimator=VotingClassifier(estimators=[(&#x27;clf1&#x27;,\n",
       "                                                     LogisticRegression()),\n",
       "                                                    (&#x27;clf2&#x27;,\n",
       "                                                     RandomForestClassifier())]),\n",
       "             n_jobs=-1,\n",
       "             param_grid={&#x27;voting&#x27;: [&#x27;soft&#x27;, &#x27;hard&#x27;],\n",
       "                         &#x27;weights&#x27;: [(1, 1), (1, 2), (2, 1)]})</pre></div></div></div><div class=\"sk-parallel\"><div class=\"sk-parallel-item\"><div class=\"sk-item\"><div class=\"sk-serial\"><div class=\"sk-item sk-dashed-wrapped\"><div class=\"sk-parallel\"><div class=\"sk-parallel-item\"><div class=\"sk-item\"><div class=\"sk-label-container\"><div class=\"sk-label sk-toggleable\"><label>clf1</label></div></div><div class=\"sk-serial\"><div class=\"sk-item\"><div class=\"sk-estimator sk-toggleable\"><input class=\"sk-toggleable__control sk-hidden--visually\" id=\"d744b96d-c745-49d7-9a76-adad3300cd3e\" type=\"checkbox\" ><label for=\"d744b96d-c745-49d7-9a76-adad3300cd3e\" class=\"sk-toggleable__label sk-toggleable__label-arrow\">LogisticRegression</label><div class=\"sk-toggleable__content\"><pre>LogisticRegression()</pre></div></div></div></div></div></div><div class=\"sk-parallel-item\"><div class=\"sk-item\"><div class=\"sk-label-container\"><div class=\"sk-label sk-toggleable\"><label>clf2</label></div></div><div class=\"sk-serial\"><div class=\"sk-item\"><div class=\"sk-estimator sk-toggleable\"><input class=\"sk-toggleable__control sk-hidden--visually\" id=\"99651b70-7f74-4fb1-8d8a-d4fa0e5ff745\" type=\"checkbox\" ><label for=\"99651b70-7f74-4fb1-8d8a-d4fa0e5ff745\" class=\"sk-toggleable__label sk-toggleable__label-arrow\">RandomForestClassifier</label><div class=\"sk-toggleable__content\"><pre>RandomForestClassifier()</pre></div></div></div></div></div></div></div></div></div></div></div></div></div></div></div>"
      ],
      "text/plain": [
       "GridSearchCV(estimator=VotingClassifier(estimators=[('clf1',\n",
       "                                                     LogisticRegression()),\n",
       "                                                    ('clf2',\n",
       "                                                     RandomForestClassifier())]),\n",
       "             n_jobs=-1,\n",
       "             param_grid={'voting': ['soft', 'hard'],\n",
       "                         'weights': [(1, 1), (1, 2), (2, 1)]})"
      ]
     },
     "execution_count": 49,
     "metadata": {},
     "output_type": "execute_result"
    }
   ],
   "source": [
    "#Note : u have to split the data before doing GridSearchCV to prevent data leakage\n",
    "vc = VotingClassifier([('clf1',lr),('clf2',rf)])\n",
    "params = {'voting':['soft','hard'] , 'weights':[(1,1),(1,2),(2,1)]}\n",
    "grid = GridSearchCV(vc,params , n_jobs=-1)\n",
    "grid.fit(X,y)"
   ]
  },
  {
   "cell_type": "code",
   "execution_count": 50,
   "id": "58e4dc20",
   "metadata": {},
   "outputs": [
    {
     "data": {
      "text/plain": [
       "{'voting': 'soft', 'weights': (1, 2)}"
      ]
     },
     "execution_count": 50,
     "metadata": {},
     "output_type": "execute_result"
    }
   ],
   "source": [
    "grid.best_params_"
   ]
  },
  {
   "cell_type": "code",
   "execution_count": null,
   "id": "6db2a826",
   "metadata": {},
   "outputs": [],
   "source": []
  }
 ],
 "metadata": {
  "kernelspec": {
   "display_name": "Python 3 (ipykernel)",
   "language": "python",
   "name": "python3"
  },
  "language_info": {
   "codemirror_mode": {
    "name": "ipython",
    "version": 3
   },
   "file_extension": ".py",
   "mimetype": "text/x-python",
   "name": "python",
   "nbconvert_exporter": "python",
   "pygments_lexer": "ipython3",
   "version": "3.7.13"
  }
 },
 "nbformat": 4,
 "nbformat_minor": 5
}
